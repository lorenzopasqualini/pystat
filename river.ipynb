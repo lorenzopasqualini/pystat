{
 "cells": [
  {
   "cell_type": "code",
   "execution_count": null,
   "id": "7be8502c",
   "metadata": {},
   "outputs": [],
   "source": [
    "import json\n",
    "import requests\n",
    "from bs4 import BeautifulSoup\n",
    "import pandas as pd\n",
    "import matplotlib as mpl\n",
    "import matplotlib.pyplot as plt\n",
    "from mplsoccer import Pitch, VerticalPitch"
   ]
  },
  {
   "cell_type": "code",
   "execution_count": null,
   "id": "2f867a2d",
   "metadata": {},
   "outputs": [],
   "source": [
    "base_url= 'https://understat.com/match/'\n",
    "match= str(input('Enter the match ID: '))\n",
    "url= base_url + match"
   ]
  },
  {
   "cell_type": "code",
   "execution_count": null,
   "id": "abfdfd14",
   "metadata": {},
   "outputs": [],
   "source": [
    "res= requests.get(url)\n",
    "soup= BeautifulSoup(res.content, 'lxml') #Parse\n",
    "scripts= soup.find_all('script') #Script"
   ]
  },
  {
   "cell_type": "code",
   "execution_count": null,
   "id": "cfb399ec",
   "metadata": {},
   "outputs": [],
   "source": [
    "strings = scripts[1].string\n",
    "ind_start = strings.index(\"('\")+2 \n",
    "ind_end = strings.index(\"')\") \n",
    "json_data = strings[ind_start:ind_end] \n",
    "json_data = json_data.encode('utf8').decode('unicode_escape')\n",
    "\n",
    "data = json.loads(json_data) #Format"
   ]
  }
 ],
 "metadata": {
  "kernelspec": {
   "display_name": "Python 3",
   "language": "python",
   "name": "python3"
  },
  "language_info": {
   "codemirror_mode": {
    "name": "ipython",
    "version": 3
   },
   "file_extension": ".py",
   "mimetype": "text/x-python",
   "name": "python",
   "nbconvert_exporter": "python",
   "pygments_lexer": "ipython3",
   "version": "3.9.6 (tags/v3.9.6:db3ff76, Jun 28 2021, 15:26:21) [MSC v.1929 64 bit (AMD64)]"
  },
  "vscode": {
   "interpreter": {
    "hash": "b216308f6c110705e7a49f2c164b2f45f55a6af2b204621238fa39e0be61ed09"
   }
  }
 },
 "nbformat": 4,
 "nbformat_minor": 5
}
